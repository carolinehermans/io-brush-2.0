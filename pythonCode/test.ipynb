{
 "cells": [
  {
   "cell_type": "code",
   "execution_count": 4,
   "metadata": {},
   "outputs": [
    {
     "name": "stdout",
     "output_type": "stream",
     "text": [
      "Received 1024 bytes of random image data\n"
     ]
    }
   ],
   "source": [
    "import serial  # Make sure this imports pyserial correctly\n",
    "import time\n",
    "\n",
    "# Set up the serial connection (adjust the COM port as needed)\n",
    "ser = serial.Serial('COM6', 115200, timeout=1)\n",
    "\n",
    "# Allow the connection to settle\n",
    "time.sleep(2)\n",
    "\n",
    "# Read image size (4 bytes)\n",
    "image_size_bytes = ser.read(4)\n",
    "image_size = int.from_bytes(image_size_bytes, byteorder='little')\n",
    "\n",
    "# Read the image data\n",
    "image_data = b\"\"\n",
    "while len(image_data) < image_size:\n",
    "    image_data += ser.read(image_size - len(image_data))\n",
    "\n",
    "# Save the image data to a file\n",
    "with open(\"random_image.bin\", \"wb\") as file:\n",
    "    file.write(image_data)\n",
    "\n",
    "print(f\"Received {len(image_data)} bytes of random image data\")\n",
    "\n",
    "ser.close()\n"
   ]
  },
  {
   "cell_type": "code",
   "execution_count": 7,
   "metadata": {},
   "outputs": [
    {
     "name": "stdout",
     "output_type": "stream",
     "text": [
      " * Serving Flask app '__main__'\n",
      " * Debug mode: on\n"
     ]
    },
    {
     "name": "stderr",
     "output_type": "stream",
     "text": [
      "WARNING: This is a development server. Do not use it in a production deployment. Use a production WSGI server instead.\n",
      " * Running on all addresses (0.0.0.0)\n",
      " * Running on http://127.0.0.1:5000\n",
      " * Running on http://10.31.177.243:5000\n",
      "Press CTRL+C to quit\n",
      " * Restarting with stat\n"
     ]
    },
    {
     "ename": "SystemExit",
     "evalue": "1",
     "output_type": "error",
     "traceback": [
      "An exception has occurred, use %tb to see the full traceback.\n",
      "\u001b[1;31mSystemExit\u001b[0m\u001b[1;31m:\u001b[0m 1\n"
     ]
    }
   ],
   "source": [
    "import serial\n",
    "import time\n",
    "import base64\n",
    "from flask import Flask, send_file\n",
    "from io import BytesIO\n",
    "import threading\n",
    "\n",
    "\n",
    "\n",
    "app = Flask(\"__main__\")\n",
    "\n",
    "\n",
    "def read_serial_data():\n",
    "    global latest_image\n",
    "    while True:\n",
    "        time.sleep(1)  # simulate waiting for data\n",
    "        base64_data = b\"\"\n",
    "        while ser.in_waiting:  # While there's data to be read from the serial port\n",
    "            base64_data += ser.read(ser.in_waiting)\n",
    "\n",
    "        if base64_data:\n",
    "            try:\n",
    "                # Decode the Base64 data into image bytes\n",
    "                image_data = base64.b64decode(base64_data)\n",
    "\n",
    "                # Save the image data into memory (BytesIO object)\n",
    "                latest_image = BytesIO(image_data)\n",
    "                print(\"Received and decoded new image.\")\n",
    "            except base64.binascii.Error:\n",
    "                print(\"Failed to decode Base64 data.\")\n",
    "        time.sleep(1)  # Delay before reading more data\n",
    "\n",
    "@app.route('/api/getImage')\n",
    "def serve_image():\n",
    "    global latest_image\n",
    "    if latest_image:\n",
    "        # Stream the image in response to a web request\n",
    "        latest_image.seek(0)  # Go to the beginning of the BytesIO object\n",
    "        return send_file(latest_image, mimetype='image/jpeg')\n",
    "    else:\n",
    "        return \"No image available\", 404\n",
    "\n",
    "    # Start the thread for reading serial data\n",
    "\n",
    "\n",
    "@app.route('/api/tempImage')\n",
    "def temp_image():\n",
    "    #open img.jpg in read-binary mode\n",
    "    with open('./img.jpg', 'rb') as bites:\n",
    "        return send_file(BytesIO(bites.read()), mimetype='image/jpeg')\n",
    "    \n",
    "\n",
    "\n",
    "#ser = serial.Serial('COM3', 115200, timeout=2)  # Adjust the port and baud rate as needed\n",
    "\n",
    "latest_image = None\n",
    "\n",
    "#threading.Thread(target=read_serial_data, daemon=True).start()\n",
    "app.run(debug=True, host='0.0.0.0', port=5000)\n"
   ]
  },
  {
   "cell_type": "code",
   "execution_count": 8,
   "metadata": {},
   "outputs": [
    {
     "name": "stdout",
     "output_type": "stream",
     "text": [
      " * Serving Flask app '__main__'\n",
      " * Debug mode: on\n"
     ]
    },
    {
     "name": "stderr",
     "output_type": "stream",
     "text": [
      "WARNING: This is a development server. Do not use it in a production deployment. Use a production WSGI server instead.\n",
      " * Running on all addresses (0.0.0.0)\n",
      " * Running on http://127.0.0.1:5000\n",
      " * Running on http://10.31.177.243:5000\n",
      "Press CTRL+C to quit\n",
      "127.0.0.1 - - [17/Oct/2024 19:50:46] \"GET / HTTP/1.1\" 404 -\n",
      "127.0.0.1 - - [17/Oct/2024 19:50:47] \"GET /favicon.ico HTTP/1.1\" 404 -\n",
      "127.0.0.1 - - [17/Oct/2024 19:51:01] \"GET /api/tempImage HTTP/1.1\" 200 -\n"
     ]
    }
   ],
   "source": [
    "import serial\n",
    "import time\n",
    "import base64\n",
    "from flask import Flask, send_file\n",
    "from io import BytesIO\n",
    "import threading\n",
    "\n",
    "app = Flask(__name__)\n",
    "\n",
    "# Global variable to store the latest received image\n",
    "latest_image = None\n",
    "\n",
    "def read_serial_data():\n",
    "    global latest_image\n",
    "    while True:\n",
    "        time.sleep(1)  # simulate waiting for data\n",
    "        base64_data = b\"\"\n",
    "        while ser.in_waiting:  # While there's data to be read from the serial port\n",
    "            base64_data += ser.read(ser.in_waiting)\n",
    "\n",
    "        if base64_data:\n",
    "            try:\n",
    "                # Decode the Base64 data into image bytes\n",
    "                image_data = base64.b64decode(base64_data)\n",
    "\n",
    "                # Save the image data into memory (BytesIO object)\n",
    "                latest_image = BytesIO(image_data)\n",
    "                print(\"Received and decoded new image.\")\n",
    "            except base64.binascii.Error:\n",
    "                print(\"Failed to decode Base64 data.\")\n",
    "        time.sleep(1)  # Delay before reading more data\n",
    "\n",
    "@app.route('/api/getImage')\n",
    "def serve_image():\n",
    "    global latest_image\n",
    "    if latest_image:\n",
    "        # Stream the image in response to a web request\n",
    "        latest_image.seek(0)  # Go to the beginning of the BytesIO object\n",
    "        return send_file(latest_image, mimetype='image/jpeg')\n",
    "    else:\n",
    "        return \"No image available\", 404\n",
    "\n",
    "@app.route('/api/tempImage')\n",
    "def temp_image():\n",
    "    # Open img.jpg in read-binary mode\n",
    "    with open('./img.jpg', 'rb') as bites:\n",
    "        return send_file(BytesIO(bites.read()), mimetype='image/jpeg')\n",
    "\n",
    "# Uncomment the line below to enable serial communication once ready\n",
    "# ser = serial.Serial('COM3', 115200, timeout=2)  # Adjust the port and baud rate as needed\n",
    "\n",
    "# Start the thread for reading serial data\n",
    "# threading.Thread(target=read_serial_data, daemon=True).start()\n",
    "\n",
    "if __name__ == '__main__':\n",
    "    app.run(debug=True, host='0.0.0.0', port=5000, use_reloader=False)\n"
   ]
  },
  {
   "cell_type": "code",
   "execution_count": null,
   "metadata": {},
   "outputs": [],
   "source": []
  }
 ],
 "metadata": {
  "kernelspec": {
   "display_name": "Python 3",
   "language": "python",
   "name": "python3"
  },
  "language_info": {
   "codemirror_mode": {
    "name": "ipython",
    "version": 3
   },
   "file_extension": ".py",
   "mimetype": "text/x-python",
   "name": "python",
   "nbconvert_exporter": "python",
   "pygments_lexer": "ipython3",
   "version": "3.12.4"
  }
 },
 "nbformat": 4,
 "nbformat_minor": 2
}
