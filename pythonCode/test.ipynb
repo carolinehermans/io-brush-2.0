{
 "cells": [
  {
   "cell_type": "code",
   "execution_count": 1,
   "metadata": {},
   "outputs": [],
   "source": [
    "import serial\n",
    "import time\n",
    "import base64\n",
    "from flask import Flask, send_file\n",
    "from io import BytesIO\n",
    "import threading\n",
    "from flask_cors import CORS  # Import CORS\n",
    "\n",
    "app = Flask(__name__)\n",
    "CORS(app)  # Initialize CORS for the Flask app\n",
    "\n",
    "\n",
    "ser = serial.Serial('COM7', 115200, timeout=2)  # Adjust the port and baud rate as needed\n",
    "\n",
    "\n",
    "def read_serial_data():\n",
    "    global latest_image, lastSend\n",
    "    while True:\n",
    "        time.sleep(1)  # Simulate waiting for data\n",
    "        base64_data = b\"\"\n",
    "        while ser.in_waiting:  # While there's data to be read from the serial port\n",
    "            base64_data += ser.read(ser.in_waiting)\n",
    "\n",
    "        if base64_data:\n",
    "            try:\n",
    "                print(len(base64_data))\n",
    "                if(len(base64_data) >= 10000):\n",
    "                    # Decode the Base64 data into image bytes\n",
    "                    image_data = base64.b64decode(base64_data)\n",
    "\n",
    "                    # Save the image data into memory (BytesIO object)\n",
    "                    latest_image = BytesIO(image_data)\n",
    "                    lastSend = None\n",
    "\n",
    "                    print(\"Received and decoded new image.\")\n",
    "                else:\n",
    "                    print(\"Data too long\")\n",
    "            except base64.binascii.Error:\n",
    "                print(\"Failed to decode Base64 data.\")\n",
    "        time.sleep(1)  # Delay before reading more data"
   ]
  },
  {
   "cell_type": "code",
   "execution_count": 2,
   "metadata": {},
   "outputs": [],
   "source": [
    "@app.route('/api/getImage')\n",
    "def serve_image():\n",
    "    global latest_image, lastSend\n",
    "    if latest_image:\n",
    "        try:\n",
    "            if lastSend is None:\n",
    "                print(\"first time\")\n",
    "                latest_image.seek(0)\n",
    "                lastSend = send_file(latest_image, mimetype='image/jpeg')\n",
    "                return lastSend\n",
    "            else:\n",
    "                print(\"not first time\")\n",
    "                return lastSend\n",
    "        except Exception as e:\n",
    "            print(e)\n",
    "            return \"Error serving image\", 500\n",
    "    else:\n",
    "        return \"No image available\", 404\n",
    "\n",
    "@app.route('/api/tempImage')\n",
    "def temp_image():\n",
    "    # Open img.jpg in read-binary mode\n",
    "    with open('./img.jpg', 'rb') as bites:\n",
    "        return send_file(BytesIO(bites.read()), mimetype='image/jpeg')\n",
    "\n",
    "@app.route('/status')\n",
    "def status():\n",
    "    return \"OK\"\n",
    "\n",
    "# Uncomment the line below to enable serial communication once ready\n",
    "\n"
   ]
  },
  {
   "cell_type": "code",
   "execution_count": 3,
   "metadata": {},
   "outputs": [
    {
     "name": "stdout",
     "output_type": "stream",
     "text": [
      " * Serving Flask app '__main__'\n",
      " * Debug mode: on\n"
     ]
    },
    {
     "name": "stderr",
     "output_type": "stream",
     "text": [
      "WARNING: This is a development server. Do not use it in a production deployment. Use a production WSGI server instead.\n",
      " * Running on all addresses (0.0.0.0)\n",
      " * Running on http://127.0.0.1:5000\n",
      " * Running on http://10.31.177.243:5000\n",
      "Press CTRL+C to quit\n"
     ]
    },
    {
     "name": "stdout",
     "output_type": "stream",
     "text": [
      "23\n",
      "Data too long\n"
     ]
    },
    {
     "name": "stderr",
     "output_type": "stream",
     "text": [
      "127.0.0.1 - - [17/Oct/2024 22:19:33] \"GET / HTTP/1.1\" 404 -\n",
      "127.0.0.1 - - [17/Oct/2024 22:19:39] \"GET /api/getImage HTTP/1.1\" 404 -\n",
      "127.0.0.1 - - [17/Oct/2024 22:19:40] \"GET /api/getImage HTTP/1.1\" 404 -\n",
      "127.0.0.1 - - [17/Oct/2024 22:19:40] \"GET /api/getImage HTTP/1.1\" 404 -\n",
      "127.0.0.1 - - [17/Oct/2024 22:19:45] \"GET / HTTP/1.1\" 404 -\n"
     ]
    },
    {
     "name": "stdout",
     "output_type": "stream",
     "text": [
      "30304\n",
      "Received and decoded new image.\n"
     ]
    },
    {
     "name": "stderr",
     "output_type": "stream",
     "text": [
      "127.0.0.1 - - [17/Oct/2024 22:19:48] \"GET /api/getImage HTTP/1.1\" 200 -\n"
     ]
    },
    {
     "name": "stdout",
     "output_type": "stream",
     "text": [
      "first time\n"
     ]
    },
    {
     "name": "stderr",
     "output_type": "stream",
     "text": [
      "Debugging middleware caught exception in streamed response at a point where response headers were already sent.\n",
      "Traceback (most recent call last):\n",
      "  File \"c:\\Python312\\Lib\\site-packages\\werkzeug\\wsgi.py\", line 332, in __next__\n",
      "    data = self.file.read(self.buffer_size)\n",
      "           ^^^^^^^^^^^^^^^^^^^^^^^^^^^^^^^^\n",
      "ValueError: I/O operation on closed file.\n",
      "127.0.0.1 - - [17/Oct/2024 22:19:49] \"GET /api/getImage HTTP/1.1\" 200 -\n"
     ]
    },
    {
     "name": "stdout",
     "output_type": "stream",
     "text": [
      "not first time\n"
     ]
    },
    {
     "name": "stderr",
     "output_type": "stream",
     "text": [
      "Debugging middleware caught exception in streamed response at a point where response headers were already sent.\n",
      "Traceback (most recent call last):\n",
      "  File \"c:\\Python312\\Lib\\site-packages\\werkzeug\\wsgi.py\", line 332, in __next__\n",
      "    data = self.file.read(self.buffer_size)\n",
      "           ^^^^^^^^^^^^^^^^^^^^^^^^^^^^^^^^\n",
      "ValueError: I/O operation on closed file.\n",
      "127.0.0.1 - - [17/Oct/2024 22:19:49] \"GET /api/getImage HTTP/1.1\" 200 -\n"
     ]
    },
    {
     "name": "stdout",
     "output_type": "stream",
     "text": [
      "not first time\n"
     ]
    },
    {
     "name": "stderr",
     "output_type": "stream",
     "text": [
      "Debugging middleware caught exception in streamed response at a point where response headers were already sent.\n",
      "Traceback (most recent call last):\n",
      "  File \"c:\\Python312\\Lib\\site-packages\\werkzeug\\wsgi.py\", line 332, in __next__\n",
      "    data = self.file.read(self.buffer_size)\n",
      "           ^^^^^^^^^^^^^^^^^^^^^^^^^^^^^^^^\n",
      "ValueError: I/O operation on closed file.\n",
      "127.0.0.1 - - [17/Oct/2024 22:19:49] \"GET /api/getImage HTTP/1.1\" 200 -\n"
     ]
    },
    {
     "name": "stdout",
     "output_type": "stream",
     "text": [
      "not first time\n"
     ]
    },
    {
     "name": "stderr",
     "output_type": "stream",
     "text": [
      "Debugging middleware caught exception in streamed response at a point where response headers were already sent.\n",
      "Traceback (most recent call last):\n",
      "  File \"c:\\Python312\\Lib\\site-packages\\werkzeug\\wsgi.py\", line 332, in __next__\n",
      "    data = self.file.read(self.buffer_size)\n",
      "           ^^^^^^^^^^^^^^^^^^^^^^^^^^^^^^^^\n",
      "ValueError: I/O operation on closed file.\n",
      "127.0.0.1 - - [17/Oct/2024 22:19:52] \"GET /api/getImage HTTP/1.1\" 200 -\n"
     ]
    },
    {
     "name": "stdout",
     "output_type": "stream",
     "text": [
      "not first time\n"
     ]
    },
    {
     "name": "stderr",
     "output_type": "stream",
     "text": [
      "Debugging middleware caught exception in streamed response at a point where response headers were already sent.\n",
      "Traceback (most recent call last):\n",
      "  File \"c:\\Python312\\Lib\\site-packages\\werkzeug\\wsgi.py\", line 332, in __next__\n",
      "    data = self.file.read(self.buffer_size)\n",
      "           ^^^^^^^^^^^^^^^^^^^^^^^^^^^^^^^^\n",
      "ValueError: I/O operation on closed file.\n",
      "127.0.0.1 - - [17/Oct/2024 22:19:53] \"GET /api/getImage HTTP/1.1\" 200 -\n"
     ]
    },
    {
     "name": "stdout",
     "output_type": "stream",
     "text": [
      "not first time\n",
      "123392\n",
      "Received and decoded new image.\n"
     ]
    },
    {
     "name": "stderr",
     "output_type": "stream",
     "text": [
      "127.0.0.1 - - [17/Oct/2024 22:19:54] \"GET /api/getImage HTTP/1.1\" 200 -\n"
     ]
    },
    {
     "name": "stdout",
     "output_type": "stream",
     "text": [
      "first time\n"
     ]
    },
    {
     "name": "stderr",
     "output_type": "stream",
     "text": [
      "Debugging middleware caught exception in streamed response at a point where response headers were already sent.\n",
      "Traceback (most recent call last):\n",
      "  File \"c:\\Python312\\Lib\\site-packages\\werkzeug\\wsgi.py\", line 332, in __next__\n",
      "    data = self.file.read(self.buffer_size)\n",
      "           ^^^^^^^^^^^^^^^^^^^^^^^^^^^^^^^^\n",
      "ValueError: I/O operation on closed file.\n",
      "127.0.0.1 - - [17/Oct/2024 22:19:55] \"GET /api/getImage HTTP/1.1\" 200 -\n"
     ]
    },
    {
     "name": "stdout",
     "output_type": "stream",
     "text": [
      "not first time\n",
      "102009\n",
      "Received and decoded new image.\n"
     ]
    },
    {
     "name": "stderr",
     "output_type": "stream",
     "text": [
      "127.0.0.1 - - [17/Oct/2024 22:19:57] \"GET /api/getImage HTTP/1.1\" 200 -\n"
     ]
    },
    {
     "name": "stdout",
     "output_type": "stream",
     "text": [
      "first time\n",
      "15604\n",
      "Received and decoded new image.\n",
      "84027\n",
      "Received and decoded new image.\n",
      "36247\n",
      "Received and decoded new image.\n"
     ]
    },
    {
     "name": "stderr",
     "output_type": "stream",
     "text": [
      "127.0.0.1 - - [17/Oct/2024 22:20:01] \"GET /api/getImage HTTP/1.1\" 200 -\n"
     ]
    },
    {
     "name": "stdout",
     "output_type": "stream",
     "text": [
      "first time\n"
     ]
    },
    {
     "name": "stderr",
     "output_type": "stream",
     "text": [
      "Debugging middleware caught exception in streamed response at a point where response headers were already sent.\n",
      "Traceback (most recent call last):\n",
      "  File \"c:\\Python312\\Lib\\site-packages\\werkzeug\\wsgi.py\", line 332, in __next__\n",
      "    data = self.file.read(self.buffer_size)\n",
      "           ^^^^^^^^^^^^^^^^^^^^^^^^^^^^^^^^\n",
      "ValueError: I/O operation on closed file.\n",
      "127.0.0.1 - - [17/Oct/2024 22:20:02] \"GET /api/getImage HTTP/1.1\" 200 -\n"
     ]
    },
    {
     "name": "stdout",
     "output_type": "stream",
     "text": [
      "not first time\n"
     ]
    },
    {
     "name": "stderr",
     "output_type": "stream",
     "text": [
      "Debugging middleware caught exception in streamed response at a point where response headers were already sent.\n",
      "Traceback (most recent call last):\n",
      "  File \"c:\\Python312\\Lib\\site-packages\\werkzeug\\wsgi.py\", line 332, in __next__\n",
      "    data = self.file.read(self.buffer_size)\n",
      "           ^^^^^^^^^^^^^^^^^^^^^^^^^^^^^^^^\n",
      "ValueError: I/O operation on closed file.\n",
      "127.0.0.1 - - [17/Oct/2024 22:20:03] \"GET /api/getImage HTTP/1.1\" 200 -\n"
     ]
    },
    {
     "name": "stdout",
     "output_type": "stream",
     "text": [
      "not first time\n"
     ]
    },
    {
     "name": "stderr",
     "output_type": "stream",
     "text": [
      "Debugging middleware caught exception in streamed response at a point where response headers were already sent.\n",
      "Traceback (most recent call last):\n",
      "  File \"c:\\Python312\\Lib\\site-packages\\werkzeug\\wsgi.py\", line 332, in __next__\n",
      "    data = self.file.read(self.buffer_size)\n",
      "           ^^^^^^^^^^^^^^^^^^^^^^^^^^^^^^^^\n",
      "ValueError: I/O operation on closed file.\n",
      "127.0.0.1 - - [17/Oct/2024 22:20:05] \"GET /api/getImage HTTP/1.1\" 200 -\n"
     ]
    },
    {
     "name": "stdout",
     "output_type": "stream",
     "text": [
      "not first time\n",
      "30172\n",
      "Received and decoded new image.\n"
     ]
    },
    {
     "name": "stderr",
     "output_type": "stream",
     "text": [
      "127.0.0.1 - - [17/Oct/2024 22:20:05] \"GET /api/getImage HTTP/1.1\" 200 -\n"
     ]
    },
    {
     "name": "stdout",
     "output_type": "stream",
     "text": [
      "first time\n",
      "51536\n",
      "Received and decoded new image.\n"
     ]
    },
    {
     "name": "stderr",
     "output_type": "stream",
     "text": [
      "127.0.0.1 - - [17/Oct/2024 22:20:19] \"GET /api/getImage HTTP/1.1\" 200 -\n"
     ]
    },
    {
     "name": "stdout",
     "output_type": "stream",
     "text": [
      "first time\n"
     ]
    },
    {
     "name": "stderr",
     "output_type": "stream",
     "text": [
      "Debugging middleware caught exception in streamed response at a point where response headers were already sent.\n",
      "Traceback (most recent call last):\n",
      "  File \"c:\\Python312\\Lib\\site-packages\\werkzeug\\wsgi.py\", line 332, in __next__\n",
      "    data = self.file.read(self.buffer_size)\n",
      "           ^^^^^^^^^^^^^^^^^^^^^^^^^^^^^^^^\n",
      "ValueError: I/O operation on closed file.\n",
      "127.0.0.1 - - [17/Oct/2024 22:20:20] \"GET /api/getImage HTTP/1.1\" 200 -\n"
     ]
    },
    {
     "name": "stdout",
     "output_type": "stream",
     "text": [
      "not first time\n",
      "35932\n",
      "Received and decoded new image.\n"
     ]
    },
    {
     "name": "stderr",
     "output_type": "stream",
     "text": [
      "127.0.0.1 - - [17/Oct/2024 22:20:23] \"GET /api/getImage HTTP/1.1\" 200 -\n"
     ]
    },
    {
     "name": "stdout",
     "output_type": "stream",
     "text": [
      "first time\n"
     ]
    },
    {
     "name": "stderr",
     "output_type": "stream",
     "text": [
      "Debugging middleware caught exception in streamed response at a point where response headers were already sent.\n",
      "Traceback (most recent call last):\n",
      "  File \"c:\\Python312\\Lib\\site-packages\\werkzeug\\wsgi.py\", line 332, in __next__\n",
      "    data = self.file.read(self.buffer_size)\n",
      "           ^^^^^^^^^^^^^^^^^^^^^^^^^^^^^^^^\n",
      "ValueError: I/O operation on closed file.\n",
      "127.0.0.1 - - [17/Oct/2024 22:20:24] \"GET /api/getImage HTTP/1.1\" 200 -\n"
     ]
    },
    {
     "name": "stdout",
     "output_type": "stream",
     "text": [
      "not first time\n"
     ]
    },
    {
     "name": "stderr",
     "output_type": "stream",
     "text": [
      "Debugging middleware caught exception in streamed response at a point where response headers were already sent.\n",
      "Traceback (most recent call last):\n",
      "  File \"c:\\Python312\\Lib\\site-packages\\werkzeug\\wsgi.py\", line 332, in __next__\n",
      "    data = self.file.read(self.buffer_size)\n",
      "           ^^^^^^^^^^^^^^^^^^^^^^^^^^^^^^^^\n",
      "ValueError: I/O operation on closed file.\n",
      "127.0.0.1 - - [17/Oct/2024 22:20:27] \"GET /api/getImage HTTP/1.1\" 200 -\n"
     ]
    },
    {
     "name": "stdout",
     "output_type": "stream",
     "text": [
      "not first time\n",
      "33551\n",
      "Received and decoded new image.\n"
     ]
    },
    {
     "name": "stderr",
     "output_type": "stream",
     "text": [
      "127.0.0.1 - - [17/Oct/2024 22:20:27] \"GET /api/getImage HTTP/1.1\" 200 -\n"
     ]
    },
    {
     "name": "stdout",
     "output_type": "stream",
     "text": [
      "first time\n"
     ]
    },
    {
     "name": "stderr",
     "output_type": "stream",
     "text": [
      "Debugging middleware caught exception in streamed response at a point where response headers were already sent.\n",
      "Traceback (most recent call last):\n",
      "  File \"c:\\Python312\\Lib\\site-packages\\werkzeug\\wsgi.py\", line 332, in __next__\n",
      "    data = self.file.read(self.buffer_size)\n",
      "           ^^^^^^^^^^^^^^^^^^^^^^^^^^^^^^^^\n",
      "ValueError: I/O operation on closed file.\n",
      "127.0.0.1 - - [17/Oct/2024 22:20:28] \"GET /api/getImage HTTP/1.1\" 200 -\n"
     ]
    },
    {
     "name": "stdout",
     "output_type": "stream",
     "text": [
      "not first time\n",
      "29356\n",
      "Received and decoded new image.\n"
     ]
    },
    {
     "name": "stderr",
     "output_type": "stream",
     "text": [
      "127.0.0.1 - - [17/Oct/2024 22:20:34] \"GET /api/getImage HTTP/1.1\" 200 -\n"
     ]
    },
    {
     "name": "stdout",
     "output_type": "stream",
     "text": [
      "first time\n"
     ]
    }
   ],
   "source": [
    "# Start the thread for reading serial data\n",
    "\n",
    "threading.Thread(target=read_serial_data).start()\n",
    "\n",
    "if __name__ == '__main__':\n",
    "    global lastSend, latest_image\n",
    "    latest_image = None\n",
    "    lastSend = None\n",
    "    app.run(debug=True, host='0.0.0.0', port=5000, use_reloader=False)"
   ]
  },
  {
   "cell_type": "code",
   "execution_count": null,
   "metadata": {},
   "outputs": [],
   "source": []
  }
 ],
 "metadata": {
  "kernelspec": {
   "display_name": "Python 3",
   "language": "python",
   "name": "python3"
  },
  "language_info": {
   "codemirror_mode": {
    "name": "ipython",
    "version": 3
   },
   "file_extension": ".py",
   "mimetype": "text/x-python",
   "name": "python",
   "nbconvert_exporter": "python",
   "pygments_lexer": "ipython3",
   "version": "3.10.13"
  }
 },
 "nbformat": 4,
 "nbformat_minor": 2
}
